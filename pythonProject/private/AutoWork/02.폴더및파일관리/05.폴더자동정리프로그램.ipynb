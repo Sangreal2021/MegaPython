{
 "cells": [
  {
   "cell_type": "code",
   "execution_count": 1,
   "metadata": {},
   "outputs": [],
   "source": [
    "import os, glob, shutil"
   ]
  },
  {
   "cell_type": "code",
   "execution_count": 11,
   "metadata": {},
   "outputs": [
    {
     "data": {
      "text/plain": [
       "['D:\\\\private\\\\study\\\\ProjectPy\\\\AutoWork\\\\sources\\\\GS칼텍스_20300203_보고서.docx',\n",
       " 'D:\\\\private\\\\study\\\\ProjectPy\\\\AutoWork\\\\sources\\\\KT rolster_20300112_보고서.pptx',\n",
       " 'D:\\\\private\\\\study\\\\ProjectPy\\\\AutoWork\\\\sources\\\\농심_20300112_보고서.pptx',\n",
       " 'D:\\\\private\\\\study\\\\ProjectPy\\\\AutoWork\\\\sources\\\\신세계그룹_20300124_보고서.docx',\n",
       " 'D:\\\\private\\\\study\\\\ProjectPy\\\\AutoWork\\\\sources\\\\아시아나_20300124_보고서.docx',\n",
       " 'D:\\\\private\\\\study\\\\ProjectPy\\\\AutoWork\\\\sources\\\\포스코_20300120_보고서.docx',\n",
       " 'D:\\\\private\\\\study\\\\ProjectPy\\\\AutoWork\\\\sources\\\\현대백화점_20300213_보고서.pptx']"
      ]
     },
     "execution_count": 11,
     "metadata": {},
     "output_type": "execute_result"
    }
   ],
   "source": [
    "# 1. [D:\\private\\study\\ProjectPy\\AutoWork\\sources]\n",
    "#   '보고서' 단어가 포함된 파일 추출\n",
    "report_files = glob.glob(r'D:\\private\\study\\ProjectPy\\AutoWork\\sources\\*보고서.*')\n",
    "report_files"
   ]
  },
  {
   "cell_type": "code",
   "execution_count": 5,
   "metadata": {},
   "outputs": [],
   "source": [
    "# 2. [D:\\private\\study\\ProjectPy\\AutoWork\\sources\\보고서]\n",
    "#   폴더가 없다면 만들기\n",
    "if not os.path.exists(r\"D:\\private\\study\\ProjectPy\\AutoWork\\sources\\보고서\"):\n",
    "    os.mkdir(r\"D:\\private\\study\\ProjectPy\\AutoWork\\sources\\보고서\")"
   ]
  },
  {
   "cell_type": "code",
   "execution_count": 14,
   "metadata": {},
   "outputs": [],
   "source": [
    "# 3. 파일 이동시키기\n",
    "#   추출한 파일들을 '보고서' 폴더로 이동\n",
    "for file in report_files:\n",
    "    # print(file)\n",
    "    shutil.move(file, '../sources/보고서')"
   ]
  },
  {
   "cell_type": "code",
   "execution_count": 16,
   "metadata": {},
   "outputs": [
    {
     "data": {
      "text/plain": [
       "['D:\\\\private\\\\study\\\\ProjectPy\\\\AutoWork\\\\sources\\\\SK브로드밴드_20300104_데이터.xlsx',\n",
       " 'D:\\\\private\\\\study\\\\ProjectPy\\\\AutoWork\\\\sources\\\\SOIL_20300310_데이터.csv',\n",
       " 'D:\\\\private\\\\study\\\\ProjectPy\\\\AutoWork\\\\sources\\\\농협_20300105_데이터.xlsx',\n",
       " 'D:\\\\private\\\\study\\\\ProjectPy\\\\AutoWork\\\\sources\\\\두산그룹_20300205_데이터.csv',\n",
       " 'D:\\\\private\\\\study\\\\ProjectPy\\\\AutoWork\\\\sources\\\\삼양그룹_20300102_데이터.xlsx',\n",
       " 'D:\\\\private\\\\study\\\\ProjectPy\\\\AutoWork\\\\sources\\\\셀트리온_20300210_데이터.csv',\n",
       " 'D:\\\\private\\\\study\\\\ProjectPy\\\\AutoWork\\\\sources\\\\코오롱_20300104_데이터.xlsx',\n",
       " 'D:\\\\private\\\\study\\\\ProjectPy\\\\AutoWork\\\\sources\\\\효성그룹_20300310_데이터.csv']"
      ]
     },
     "execution_count": 16,
     "metadata": {},
     "output_type": "execute_result"
    }
   ],
   "source": [
    "# 1. [D:\\private\\study\\ProjectPy\\AutoWork\\sources]\n",
    "#   '보고서' 단어가 포함된 파일 추출\n",
    "data_files = glob.glob(r'D:\\private\\study\\ProjectPy\\AutoWork\\sources\\*데이터.*')\n",
    "data_files"
   ]
  },
  {
   "cell_type": "code",
   "execution_count": 18,
   "metadata": {},
   "outputs": [],
   "source": [
    "# 2. [D:\\private\\study\\ProjectPy\\AutoWork\\sources\\데이터]\n",
    "#   폴더가 없다면 만들기\n",
    "if not os.path.exists(r\"D:\\private\\study\\ProjectPy\\AutoWork\\sources\\데이터\"):\n",
    "    os.mkdir(r\"D:\\private\\study\\ProjectPy\\AutoWork\\sources\\데이터\")"
   ]
  },
  {
   "cell_type": "code",
   "execution_count": 20,
   "metadata": {},
   "outputs": [],
   "source": [
    "# 3. 파일 이동시키기\n",
    "#   추출한 파일들을 '데이터' 폴더로 이동\n",
    "for data in data_files:\n",
    "    # print(data)\n",
    "    shutil.move(data, '../sources/데이터')"
   ]
  },
  {
   "cell_type": "code",
   "execution_count": 35,
   "metadata": {},
   "outputs": [],
   "source": [
    "# (심화) 폴더 자동 정리 프로그램 완성하기\n",
    "source_path = r\"D:\\private\\study\\ProjectPy\\AutoWork\\sources\"\n",
    "keyword_list = ['보고서', '데이터', '계산서']\n",
    "for keyword in keyword_list:\n",
    "    # print(keyword)\n",
    "    file_list = glob.glob(f\"{source_path}/*{keyword}*\")\n",
    "    # print(file_list)\n",
    "    if not os.path.exists(f\"{source_path}/{keyword}파일\"):\n",
    "        os.mkdir(f\"{source_path}/{keyword}파일\")\n",
    "    for file in file_list:\n",
    "        # print(file)\n",
    "        shutil.move(file, f\"{source_path}/{keyword}파일\")"
   ]
  }
 ],
 "metadata": {
  "kernelspec": {
   "display_name": "Python 3",
   "language": "python",
   "name": "python3"
  },
  "language_info": {
   "codemirror_mode": {
    "name": "ipython",
    "version": 3
   },
   "file_extension": ".py",
   "mimetype": "text/x-python",
   "name": "python",
   "nbconvert_exporter": "python",
   "pygments_lexer": "ipython3",
   "version": "3.12.2"
  }
 },
 "nbformat": 4,
 "nbformat_minor": 2
}
