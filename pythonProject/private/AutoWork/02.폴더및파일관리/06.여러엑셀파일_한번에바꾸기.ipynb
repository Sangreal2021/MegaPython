{
 "cells": [
  {
   "cell_type": "code",
   "execution_count": 1,
   "metadata": {},
   "outputs": [],
   "source": [
    "import xlwings as xw\n",
    "import glob"
   ]
  },
  {
   "cell_type": "code",
   "execution_count": 2,
   "metadata": {},
   "outputs": [],
   "source": [
    "# 엑셀 앱 만들기\n",
    "app = xw.App(add_book=False)\n",
    "\n",
    "# 엑셀 워크북 불러오기\n",
    "wb = app.books.open(r\"D:\\private\\study\\ProjectPy\\AutoWork\\sources\\계산서파일\\세금계산서_놀부전자.xlsx\")\n",
    "\n",
    "# 워크 시트 선택\n",
    "ws = wb.sheets['자료입력페이지']\n",
    "\n",
    "# 셀 데이터 입력\n",
    "ws.range('C14').value = \"2030-02-01\"\n",
    "\n",
    "# 워크북 저장\n",
    "wb.save()\n",
    "\n",
    "# 엑셀 앱 닫기\n",
    "app.quit()"
   ]
  },
  {
   "cell_type": "code",
   "execution_count": 3,
   "metadata": {},
   "outputs": [
    {
     "data": {
      "text/plain": [
       "['D:\\\\private\\\\study\\\\ProjectPy\\\\AutoWork\\\\sources\\\\계산서파일\\\\세금계산서_놀부전자.xlsx',\n",
       " 'D:\\\\private\\\\study\\\\ProjectPy\\\\AutoWork\\\\sources\\\\계산서파일\\\\세금계산서_제비공업.xlsx',\n",
       " 'D:\\\\private\\\\study\\\\ProjectPy\\\\AutoWork\\\\sources\\\\계산서파일\\\\세금계산서_콩쥐하이텍.xlsx',\n",
       " 'D:\\\\private\\\\study\\\\ProjectPy\\\\AutoWork\\\\sources\\\\계산서파일\\\\세금계산서_팥쥐엔지니어링.xlsx',\n",
       " 'D:\\\\private\\\\study\\\\ProjectPy\\\\AutoWork\\\\sources\\\\계산서파일\\\\세금계산서_흥부전자.xlsx']"
      ]
     },
     "execution_count": 3,
     "metadata": {},
     "output_type": "execute_result"
    }
   ],
   "source": [
    "file_list = glob.glob(r\"D:\\private\\study\\ProjectPy\\AutoWork\\sources\\계산서파일\\*\")\n",
    "file_list"
   ]
  },
  {
   "cell_type": "code",
   "execution_count": 5,
   "metadata": {},
   "outputs": [],
   "source": [
    "# 엑셀 앱 만들기\n",
    "app = xw.App(add_book=False)\n",
    "for file in file_list:\n",
    "    # 엑셀 워크북 불러오기\n",
    "    wb = app.books.open(file)\n",
    "\n",
    "    # 워크 시트 선택\n",
    "    ws = wb.sheets['자료입력페이지']\n",
    "\n",
    "    # 셀 데이터 입력\n",
    "    ws.range('C14').value = \"2030-02-01\"\n",
    "\n",
    "    # 워크북 저장\n",
    "    wb.save()\n",
    "    \n",
    "    # 워크북 닫기\n",
    "    wb.close()\n",
    "\n",
    "# 엑셀 앱 닫기\n",
    "app.quit()"
   ]
  }
 ],
 "metadata": {
  "kernelspec": {
   "display_name": "Python 3",
   "language": "python",
   "name": "python3"
  },
  "language_info": {
   "codemirror_mode": {
    "name": "ipython",
    "version": 3
   },
   "file_extension": ".py",
   "mimetype": "text/x-python",
   "name": "python",
   "nbconvert_exporter": "python",
   "pygments_lexer": "ipython3",
   "version": "3.12.2"
  }
 },
 "nbformat": 4,
 "nbformat_minor": 2
}
