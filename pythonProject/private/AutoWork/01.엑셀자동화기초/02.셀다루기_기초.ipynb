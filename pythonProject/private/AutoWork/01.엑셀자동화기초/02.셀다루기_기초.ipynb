{
 "cells": [
  {
   "cell_type": "code",
   "execution_count": 23,
   "metadata": {},
   "outputs": [],
   "source": [
    "# Q. 교육이수현황.xlsx을 열고, 마케팅팀 시트 선택\n",
    "import xlwings as xw\n",
    "\n",
    "app = xw.App(add_book=False)\n",
    "wb = app.books.open('교육이수현황.xlsx')\n",
    "ws = wb.sheets['마케팅팀']"
   ]
  },
  {
   "cell_type": "code",
   "execution_count": 24,
   "metadata": {},
   "outputs": [],
   "source": [
    "# 데이터 1개 입력\n",
    "ws.range('A1').value = '성명'"
   ]
  },
  {
   "cell_type": "code",
   "execution_count": 25,
   "metadata": {},
   "outputs": [],
   "source": [
    "ws.range('B1').value = '1월'"
   ]
  },
  {
   "cell_type": "code",
   "execution_count": 26,
   "metadata": {},
   "outputs": [],
   "source": [
    "ws.range('A2').value = '리신'\n",
    "ws.range('B2').value = 12"
   ]
  },
  {
   "cell_type": "code",
   "execution_count": 27,
   "metadata": {},
   "outputs": [],
   "source": [
    "# 데이터 여러 개 입력\n",
    "ws.range('A3').value = ['이즈리얼', 5]"
   ]
  },
  {
   "cell_type": "code",
   "execution_count": 28,
   "metadata": {},
   "outputs": [],
   "source": [
    "# 데이터 여러 개 2행에 입력\n",
    "ws.range('A4').value = [['야스오', 0], ['요네', 0]]"
   ]
  },
  {
   "cell_type": "code",
   "execution_count": 29,
   "metadata": {},
   "outputs": [],
   "source": [
    "# 데이터 세로로 입력\n",
    "ws.range('A6').options(transpose=True).value = ['피즈', '샤코']"
   ]
  },
  {
   "cell_type": "code",
   "execution_count": 30,
   "metadata": {},
   "outputs": [],
   "source": [
    "ws.range('B6').options(transpose=True).value = [15.5, 8]"
   ]
  },
  {
   "cell_type": "code",
   "execution_count": 32,
   "metadata": {},
   "outputs": [],
   "source": [
    "# Q. A8 셀에 \"합계\" 입력\n",
    "#    B8 셀에 SUM 수식\n",
    "ws.range('A8').value = '합계'\n",
    "ws.range('B8').value = '=SUM(B2:B7)'"
   ]
  },
  {
   "cell_type": "code",
   "execution_count": 33,
   "metadata": {},
   "outputs": [
    {
     "data": {
      "text/plain": [
       "<Range [교육이수현황.xlsx]마케팅팀!$A$1>"
      ]
     },
     "execution_count": 33,
     "metadata": {},
     "output_type": "execute_result"
    }
   ],
   "source": [
    "# 셀 한개 접근하기\n",
    "ws.range('A1')"
   ]
  },
  {
   "cell_type": "code",
   "execution_count": 35,
   "metadata": {},
   "outputs": [
    {
     "data": {
      "text/plain": [
       "'성명'"
      ]
     },
     "execution_count": 35,
     "metadata": {},
     "output_type": "execute_result"
    }
   ],
   "source": [
    "# 셀 한개 값을 가져오기\n",
    "ws.range('A1').value"
   ]
  },
  {
   "cell_type": "code",
   "execution_count": 37,
   "metadata": {},
   "outputs": [
    {
     "data": {
      "text/plain": [
       "<Range [교육이수현황.xlsx]마케팅팀!$A$1:$B$8>"
      ]
     },
     "execution_count": 37,
     "metadata": {},
     "output_type": "execute_result"
    }
   ],
   "source": [
    "# 셀 여러 개 접근하기\n",
    "ws.range('A1:B8')"
   ]
  },
  {
   "cell_type": "code",
   "execution_count": 39,
   "metadata": {},
   "outputs": [
    {
     "data": {
      "text/plain": [
       "[['성명', '1월'],\n",
       " ['리신', 12.0],\n",
       " ['이즈리얼', 5.0],\n",
       " ['야스오', 0.0],\n",
       " ['요네', 0.0],\n",
       " ['피즈', 15.5],\n",
       " ['샤코', 8.0],\n",
       " ['합계', 40.5]]"
      ]
     },
     "execution_count": 39,
     "metadata": {},
     "output_type": "execute_result"
    }
   ],
   "source": [
    "# 셀 여러 개 값 가져오기\n",
    "ws.range('A1:B8').value"
   ]
  },
  {
   "cell_type": "code",
   "execution_count": 40,
   "metadata": {},
   "outputs": [],
   "source": [
    "ws.range('C1').value = ['2월', '3월']"
   ]
  },
  {
   "cell_type": "code",
   "execution_count": 44,
   "metadata": {},
   "outputs": [],
   "source": [
    "# 데이터 복사하기\n",
    "ws.range('B2:B8').copy()"
   ]
  },
  {
   "cell_type": "code",
   "execution_count": 45,
   "metadata": {},
   "outputs": [],
   "source": [
    "# 붙여넣기\n",
    "ws.range('C2').paste()\n",
    "ws.range('D2').paste()"
   ]
  },
  {
   "cell_type": "code",
   "execution_count": 48,
   "metadata": {},
   "outputs": [
    {
     "data": {
      "text/plain": [
       "['성명', '리신', '이즈리얼', '야스오', '요네', '피즈', '샤코', '합계']"
      ]
     },
     "execution_count": 48,
     "metadata": {},
     "output_type": "execute_result"
    }
   ],
   "source": [
    "# 셀 확장해서 선택하기\n",
    "ws.range('A1').expand('down').value"
   ]
  },
  {
   "cell_type": "code",
   "execution_count": 52,
   "metadata": {},
   "outputs": [
    {
     "data": {
      "text/plain": [
       "['성명', '1월', '2월', '3월']"
      ]
     },
     "execution_count": 52,
     "metadata": {},
     "output_type": "execute_result"
    }
   ],
   "source": [
    "ws.range('A1').expand('right').value"
   ]
  },
  {
   "cell_type": "code",
   "execution_count": 54,
   "metadata": {},
   "outputs": [
    {
     "data": {
      "text/plain": [
       "[['성명', '1월', '2월', '3월'],\n",
       " ['리신', 12.0, 12.0, 12.0],\n",
       " ['이즈리얼', 5.0, 5.0, 5.0],\n",
       " ['야스오', 0.0, 0.0, 0.0],\n",
       " ['요네', 0.0, 0.0, 0.0],\n",
       " ['피즈', 15.5, 15.5, 15.5],\n",
       " ['샤코', 8.0, 8.0, 8.0],\n",
       " ['합계', 40.5, 40.5, 40.5]]"
      ]
     },
     "execution_count": 54,
     "metadata": {},
     "output_type": "execute_result"
    }
   ],
   "source": [
    "ws.range('A1').expand('table').value"
   ]
  },
  {
   "cell_type": "code",
   "execution_count": 56,
   "metadata": {},
   "outputs": [],
   "source": [
    "# 폰트\n",
    "ws.range('A1:D1').font.size = 13"
   ]
  },
  {
   "cell_type": "code",
   "execution_count": 57,
   "metadata": {},
   "outputs": [],
   "source": [
    "ws.range('A1:D1').font.bold = True"
   ]
  },
  {
   "cell_type": "code",
   "execution_count": 61,
   "metadata": {},
   "outputs": [],
   "source": [
    "ws.range('A1:D1').color = (255, 125, 0)"
   ]
  },
  {
   "cell_type": "code",
   "execution_count": 60,
   "metadata": {},
   "outputs": [],
   "source": [
    "ws.range('A1:D1').font.color = (255, 255, 250)"
   ]
  },
  {
   "cell_type": "code",
   "execution_count": 62,
   "metadata": {},
   "outputs": [],
   "source": [
    "wb.save()\n",
    "app.quit()"
   ]
  }
 ],
 "metadata": {
  "kernelspec": {
   "display_name": "Python 3",
   "language": "python",
   "name": "python3"
  },
  "language_info": {
   "codemirror_mode": {
    "name": "ipython",
    "version": 3
   },
   "file_extension": ".py",
   "mimetype": "text/x-python",
   "name": "python",
   "nbconvert_exporter": "python",
   "pygments_lexer": "ipython3",
   "version": "3.12.2"
  }
 },
 "nbformat": 4,
 "nbformat_minor": 2
}
