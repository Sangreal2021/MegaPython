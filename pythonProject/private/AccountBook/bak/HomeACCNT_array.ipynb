{
 "cells": [
  {
   "cell_type": "code",
   "execution_count": 8,
   "metadata": {},
   "outputs": [
    {
     "name": "stdout",
     "output_type": "stream",
     "text": [
      "파일이 거래일자와 거래시간으로 정렬되었고, D:\\private\\study\\AccountBook\\거래내역\\2024\\신한은행_거래내역조회_20240901_ex01_sorted.xls 경로에 저장되었습니다.\n"
     ]
    }
   ],
   "source": [
    "import xlwings as xw\n",
    "import os\n",
    "\n",
    "# 파일 경로 설정\n",
    "file_path = r\"D:\\private\\study\\AccountBook\\거래내역\\2024\\신한은행_거래내역조회_20240901_ex01.xls\"\n",
    "sorted_file_path = r\"D:\\private\\study\\AccountBook\\거래내역\\2024\\신한은행_거래내역조회_20240901_ex01_sorted.xls\"\n",
    "\n",
    "# 엑셀 파일 열기\n",
    "app = xw.App(visible=False)\n",
    "wb = app.books.open(file_path)\n",
    "ws = wb.sheets[0]\n",
    "\n",
    "# A8부터 G열까지 마지막 행 찾기\n",
    "last_row = ws.range('A8').end('down').row\n",
    "\n",
    "# 1단계: 거래시간(B열)을 기준으로 A8:G 마지막 행 범위 정렬\n",
    "ws.range(f'A8:G{last_row}').api.Sort(\n",
    "    Key1=ws.range('B8').api,  # 거래시간 열을 기준으로 정렬\n",
    "    Order1=1,  # 오름차순 정렬\n",
    "    Orientation=1  # 상향식(위에서 아래로) 정렬\n",
    ")\n",
    "\n",
    "# 2단계: 거래일자(A열)을 기준으로 다시 정렬\n",
    "ws.range(f'A8:G{last_row}').api.Sort(\n",
    "    Key1=ws.range('A8').api,  # 거래일자 열을 기준으로 정렬\n",
    "    Order1=1,  # 오름차순 정렬\n",
    "    Orientation=1  # 상향식(위에서 아래로) 정렬\n",
    ")\n",
    "\n",
    "# 정렬된 파일을 저장하기\n",
    "wb.save(sorted_file_path)\n",
    "\n",
    "# 파일 닫기\n",
    "wb.close()\n",
    "app.quit()\n",
    "\n",
    "print(f\"파일이 거래일자와 거래시간으로 정렬되었고, {sorted_file_path} 경로에 저장되었습니다.\")\n"
   ]
  }
 ],
 "metadata": {
  "kernelspec": {
   "display_name": "Python 3",
   "language": "python",
   "name": "python3"
  },
  "language_info": {
   "codemirror_mode": {
    "name": "ipython",
    "version": 3
   },
   "file_extension": ".py",
   "mimetype": "text/x-python",
   "name": "python",
   "nbconvert_exporter": "python",
   "pygments_lexer": "ipython3",
   "version": "3.12.2"
  }
 },
 "nbformat": 4,
 "nbformat_minor": 2
}
